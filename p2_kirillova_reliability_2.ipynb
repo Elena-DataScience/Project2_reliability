{
 "cells": [
  {
   "cell_type": "markdown",
   "id": "1b401d89",
   "metadata": {
    "deletable": false,
    "editable": false,
    "id": "c81daeeb"
   },
   "source": [
    "# Исследование надежности заемщиков\n"
   ]
  },
  {
   "cell_type": "markdown",
   "id": "ae0f54e7",
   "metadata": {
    "deletable": false,
    "editable": false,
    "id": "827c20bf"
   },
   "source": [
    "Во второй части проекта вы выполните шаги 3 и 4. Их вручную проверит ревьюер.\n",
    "Чтобы вам не пришлось писать код заново для шагов 1 и 2, мы добавили авторские решения в ячейки с кодом. \n",
    "\n"
   ]
  },
  {
   "cell_type": "markdown",
   "id": "9adf7126",
   "metadata": {
    "deletable": false,
    "editable": false,
    "id": "744d7639"
   },
   "source": [
    "## Откройте таблицу и изучите общую информацию о данных"
   ]
  },
  {
   "cell_type": "markdown",
   "id": "c0c0bf61",
   "metadata": {
    "deletable": false,
    "editable": false,
    "id": "e7a14c31"
   },
   "source": [
    "**Задание 1. Импортируйте библиотеку pandas. Считайте данные из csv-файла в датафрейм и сохраните в переменную `data`. Путь к файлу:**\n",
    "\n",
    "`/datasets/data.csv`"
   ]
  },
  {
   "cell_type": "code",
   "execution_count": 1,
   "id": "0435e5c2",
   "metadata": {
    "deletable": false,
    "id": "7bcf75c9"
   },
   "outputs": [],
   "source": [
    "import pandas as pd\n",
    "\n",
    "try:\n",
    "    data = pd.read_csv('/datasets/data.csv')\n",
    "except:\n",
    "    data = pd.read_csv('https://code.s3.yandex.net/datasets/data.csv')"
   ]
  },
  {
   "cell_type": "markdown",
   "id": "5fc27c19",
   "metadata": {
    "deletable": false,
    "editable": false,
    "id": "b8038fe3"
   },
   "source": [
    "**Задание 2. Выведите первые 20 строчек датафрейма `data` на экран.**"
   ]
  },
  {
   "cell_type": "code",
   "execution_count": 2,
   "id": "f1afe6ef",
   "metadata": {
    "deletable": false,
    "id": "2a7cab99",
    "outputId": "1a8f3ef2-d323-4ec2-ddf7-89670b5944c4"
   },
   "outputs": [
    {
     "data": {
      "text/html": [
       "<div>\n",
       "<style scoped>\n",
       "    .dataframe tbody tr th:only-of-type {\n",
       "        vertical-align: middle;\n",
       "    }\n",
       "\n",
       "    .dataframe tbody tr th {\n",
       "        vertical-align: top;\n",
       "    }\n",
       "\n",
       "    .dataframe thead th {\n",
       "        text-align: right;\n",
       "    }\n",
       "</style>\n",
       "<table border=\"1\" class=\"dataframe\">\n",
       "  <thead>\n",
       "    <tr style=\"text-align: right;\">\n",
       "      <th></th>\n",
       "      <th>children</th>\n",
       "      <th>days_employed</th>\n",
       "      <th>dob_years</th>\n",
       "      <th>education</th>\n",
       "      <th>education_id</th>\n",
       "      <th>family_status</th>\n",
       "      <th>family_status_id</th>\n",
       "      <th>gender</th>\n",
       "      <th>income_type</th>\n",
       "      <th>debt</th>\n",
       "      <th>total_income</th>\n",
       "      <th>purpose</th>\n",
       "    </tr>\n",
       "  </thead>\n",
       "  <tbody>\n",
       "    <tr>\n",
       "      <th>0</th>\n",
       "      <td>1</td>\n",
       "      <td>-8437.673028</td>\n",
       "      <td>42</td>\n",
       "      <td>высшее</td>\n",
       "      <td>0</td>\n",
       "      <td>женат / замужем</td>\n",
       "      <td>0</td>\n",
       "      <td>F</td>\n",
       "      <td>сотрудник</td>\n",
       "      <td>0</td>\n",
       "      <td>253875.639453</td>\n",
       "      <td>покупка жилья</td>\n",
       "    </tr>\n",
       "    <tr>\n",
       "      <th>1</th>\n",
       "      <td>1</td>\n",
       "      <td>-4024.803754</td>\n",
       "      <td>36</td>\n",
       "      <td>среднее</td>\n",
       "      <td>1</td>\n",
       "      <td>женат / замужем</td>\n",
       "      <td>0</td>\n",
       "      <td>F</td>\n",
       "      <td>сотрудник</td>\n",
       "      <td>0</td>\n",
       "      <td>112080.014102</td>\n",
       "      <td>приобретение автомобиля</td>\n",
       "    </tr>\n",
       "    <tr>\n",
       "      <th>2</th>\n",
       "      <td>0</td>\n",
       "      <td>-5623.422610</td>\n",
       "      <td>33</td>\n",
       "      <td>Среднее</td>\n",
       "      <td>1</td>\n",
       "      <td>женат / замужем</td>\n",
       "      <td>0</td>\n",
       "      <td>M</td>\n",
       "      <td>сотрудник</td>\n",
       "      <td>0</td>\n",
       "      <td>145885.952297</td>\n",
       "      <td>покупка жилья</td>\n",
       "    </tr>\n",
       "    <tr>\n",
       "      <th>3</th>\n",
       "      <td>3</td>\n",
       "      <td>-4124.747207</td>\n",
       "      <td>32</td>\n",
       "      <td>среднее</td>\n",
       "      <td>1</td>\n",
       "      <td>женат / замужем</td>\n",
       "      <td>0</td>\n",
       "      <td>M</td>\n",
       "      <td>сотрудник</td>\n",
       "      <td>0</td>\n",
       "      <td>267628.550329</td>\n",
       "      <td>дополнительное образование</td>\n",
       "    </tr>\n",
       "    <tr>\n",
       "      <th>4</th>\n",
       "      <td>0</td>\n",
       "      <td>340266.072047</td>\n",
       "      <td>53</td>\n",
       "      <td>среднее</td>\n",
       "      <td>1</td>\n",
       "      <td>гражданский брак</td>\n",
       "      <td>1</td>\n",
       "      <td>F</td>\n",
       "      <td>пенсионер</td>\n",
       "      <td>0</td>\n",
       "      <td>158616.077870</td>\n",
       "      <td>сыграть свадьбу</td>\n",
       "    </tr>\n",
       "    <tr>\n",
       "      <th>5</th>\n",
       "      <td>0</td>\n",
       "      <td>-926.185831</td>\n",
       "      <td>27</td>\n",
       "      <td>высшее</td>\n",
       "      <td>0</td>\n",
       "      <td>гражданский брак</td>\n",
       "      <td>1</td>\n",
       "      <td>M</td>\n",
       "      <td>компаньон</td>\n",
       "      <td>0</td>\n",
       "      <td>255763.565419</td>\n",
       "      <td>покупка жилья</td>\n",
       "    </tr>\n",
       "    <tr>\n",
       "      <th>6</th>\n",
       "      <td>0</td>\n",
       "      <td>-2879.202052</td>\n",
       "      <td>43</td>\n",
       "      <td>высшее</td>\n",
       "      <td>0</td>\n",
       "      <td>женат / замужем</td>\n",
       "      <td>0</td>\n",
       "      <td>F</td>\n",
       "      <td>компаньон</td>\n",
       "      <td>0</td>\n",
       "      <td>240525.971920</td>\n",
       "      <td>операции с жильем</td>\n",
       "    </tr>\n",
       "    <tr>\n",
       "      <th>7</th>\n",
       "      <td>0</td>\n",
       "      <td>-152.779569</td>\n",
       "      <td>50</td>\n",
       "      <td>СРЕДНЕЕ</td>\n",
       "      <td>1</td>\n",
       "      <td>женат / замужем</td>\n",
       "      <td>0</td>\n",
       "      <td>M</td>\n",
       "      <td>сотрудник</td>\n",
       "      <td>0</td>\n",
       "      <td>135823.934197</td>\n",
       "      <td>образование</td>\n",
       "    </tr>\n",
       "    <tr>\n",
       "      <th>8</th>\n",
       "      <td>2</td>\n",
       "      <td>-6929.865299</td>\n",
       "      <td>35</td>\n",
       "      <td>ВЫСШЕЕ</td>\n",
       "      <td>0</td>\n",
       "      <td>гражданский брак</td>\n",
       "      <td>1</td>\n",
       "      <td>F</td>\n",
       "      <td>сотрудник</td>\n",
       "      <td>0</td>\n",
       "      <td>95856.832424</td>\n",
       "      <td>на проведение свадьбы</td>\n",
       "    </tr>\n",
       "    <tr>\n",
       "      <th>9</th>\n",
       "      <td>0</td>\n",
       "      <td>-2188.756445</td>\n",
       "      <td>41</td>\n",
       "      <td>среднее</td>\n",
       "      <td>1</td>\n",
       "      <td>женат / замужем</td>\n",
       "      <td>0</td>\n",
       "      <td>M</td>\n",
       "      <td>сотрудник</td>\n",
       "      <td>0</td>\n",
       "      <td>144425.938277</td>\n",
       "      <td>покупка жилья для семьи</td>\n",
       "    </tr>\n",
       "    <tr>\n",
       "      <th>10</th>\n",
       "      <td>2</td>\n",
       "      <td>-4171.483647</td>\n",
       "      <td>36</td>\n",
       "      <td>высшее</td>\n",
       "      <td>0</td>\n",
       "      <td>женат / замужем</td>\n",
       "      <td>0</td>\n",
       "      <td>M</td>\n",
       "      <td>компаньон</td>\n",
       "      <td>0</td>\n",
       "      <td>113943.491460</td>\n",
       "      <td>покупка недвижимости</td>\n",
       "    </tr>\n",
       "    <tr>\n",
       "      <th>11</th>\n",
       "      <td>0</td>\n",
       "      <td>-792.701887</td>\n",
       "      <td>40</td>\n",
       "      <td>среднее</td>\n",
       "      <td>1</td>\n",
       "      <td>женат / замужем</td>\n",
       "      <td>0</td>\n",
       "      <td>F</td>\n",
       "      <td>сотрудник</td>\n",
       "      <td>0</td>\n",
       "      <td>77069.234271</td>\n",
       "      <td>покупка коммерческой недвижимости</td>\n",
       "    </tr>\n",
       "    <tr>\n",
       "      <th>12</th>\n",
       "      <td>0</td>\n",
       "      <td>NaN</td>\n",
       "      <td>65</td>\n",
       "      <td>среднее</td>\n",
       "      <td>1</td>\n",
       "      <td>гражданский брак</td>\n",
       "      <td>1</td>\n",
       "      <td>M</td>\n",
       "      <td>пенсионер</td>\n",
       "      <td>0</td>\n",
       "      <td>NaN</td>\n",
       "      <td>сыграть свадьбу</td>\n",
       "    </tr>\n",
       "    <tr>\n",
       "      <th>13</th>\n",
       "      <td>0</td>\n",
       "      <td>-1846.641941</td>\n",
       "      <td>54</td>\n",
       "      <td>неоконченное высшее</td>\n",
       "      <td>2</td>\n",
       "      <td>женат / замужем</td>\n",
       "      <td>0</td>\n",
       "      <td>F</td>\n",
       "      <td>сотрудник</td>\n",
       "      <td>0</td>\n",
       "      <td>130458.228857</td>\n",
       "      <td>приобретение автомобиля</td>\n",
       "    </tr>\n",
       "    <tr>\n",
       "      <th>14</th>\n",
       "      <td>0</td>\n",
       "      <td>-1844.956182</td>\n",
       "      <td>56</td>\n",
       "      <td>высшее</td>\n",
       "      <td>0</td>\n",
       "      <td>гражданский брак</td>\n",
       "      <td>1</td>\n",
       "      <td>F</td>\n",
       "      <td>компаньон</td>\n",
       "      <td>1</td>\n",
       "      <td>165127.911772</td>\n",
       "      <td>покупка жилой недвижимости</td>\n",
       "    </tr>\n",
       "    <tr>\n",
       "      <th>15</th>\n",
       "      <td>1</td>\n",
       "      <td>-972.364419</td>\n",
       "      <td>26</td>\n",
       "      <td>среднее</td>\n",
       "      <td>1</td>\n",
       "      <td>женат / замужем</td>\n",
       "      <td>0</td>\n",
       "      <td>F</td>\n",
       "      <td>сотрудник</td>\n",
       "      <td>0</td>\n",
       "      <td>116820.904450</td>\n",
       "      <td>строительство собственной недвижимости</td>\n",
       "    </tr>\n",
       "    <tr>\n",
       "      <th>16</th>\n",
       "      <td>0</td>\n",
       "      <td>-1719.934226</td>\n",
       "      <td>35</td>\n",
       "      <td>среднее</td>\n",
       "      <td>1</td>\n",
       "      <td>женат / замужем</td>\n",
       "      <td>0</td>\n",
       "      <td>F</td>\n",
       "      <td>сотрудник</td>\n",
       "      <td>0</td>\n",
       "      <td>289202.704229</td>\n",
       "      <td>недвижимость</td>\n",
       "    </tr>\n",
       "    <tr>\n",
       "      <th>17</th>\n",
       "      <td>0</td>\n",
       "      <td>-2369.999720</td>\n",
       "      <td>33</td>\n",
       "      <td>высшее</td>\n",
       "      <td>0</td>\n",
       "      <td>гражданский брак</td>\n",
       "      <td>1</td>\n",
       "      <td>M</td>\n",
       "      <td>сотрудник</td>\n",
       "      <td>0</td>\n",
       "      <td>90410.586745</td>\n",
       "      <td>строительство недвижимости</td>\n",
       "    </tr>\n",
       "    <tr>\n",
       "      <th>18</th>\n",
       "      <td>0</td>\n",
       "      <td>400281.136913</td>\n",
       "      <td>53</td>\n",
       "      <td>среднее</td>\n",
       "      <td>1</td>\n",
       "      <td>вдовец / вдова</td>\n",
       "      <td>2</td>\n",
       "      <td>F</td>\n",
       "      <td>пенсионер</td>\n",
       "      <td>0</td>\n",
       "      <td>56823.777243</td>\n",
       "      <td>на покупку подержанного автомобиля</td>\n",
       "    </tr>\n",
       "    <tr>\n",
       "      <th>19</th>\n",
       "      <td>0</td>\n",
       "      <td>-10038.818549</td>\n",
       "      <td>48</td>\n",
       "      <td>СРЕДНЕЕ</td>\n",
       "      <td>1</td>\n",
       "      <td>в разводе</td>\n",
       "      <td>3</td>\n",
       "      <td>F</td>\n",
       "      <td>сотрудник</td>\n",
       "      <td>0</td>\n",
       "      <td>242831.107982</td>\n",
       "      <td>на покупку своего автомобиля</td>\n",
       "    </tr>\n",
       "  </tbody>\n",
       "</table>\n",
       "</div>"
      ],
      "text/plain": [
       "    children  days_employed  dob_years            education  education_id  \\\n",
       "0          1   -8437.673028         42               высшее             0   \n",
       "1          1   -4024.803754         36              среднее             1   \n",
       "2          0   -5623.422610         33              Среднее             1   \n",
       "3          3   -4124.747207         32              среднее             1   \n",
       "4          0  340266.072047         53              среднее             1   \n",
       "5          0    -926.185831         27               высшее             0   \n",
       "6          0   -2879.202052         43               высшее             0   \n",
       "7          0    -152.779569         50              СРЕДНЕЕ             1   \n",
       "8          2   -6929.865299         35               ВЫСШЕЕ             0   \n",
       "9          0   -2188.756445         41              среднее             1   \n",
       "10         2   -4171.483647         36               высшее             0   \n",
       "11         0    -792.701887         40              среднее             1   \n",
       "12         0            NaN         65              среднее             1   \n",
       "13         0   -1846.641941         54  неоконченное высшее             2   \n",
       "14         0   -1844.956182         56               высшее             0   \n",
       "15         1    -972.364419         26              среднее             1   \n",
       "16         0   -1719.934226         35              среднее             1   \n",
       "17         0   -2369.999720         33               высшее             0   \n",
       "18         0  400281.136913         53              среднее             1   \n",
       "19         0  -10038.818549         48              СРЕДНЕЕ             1   \n",
       "\n",
       "       family_status  family_status_id gender income_type  debt  \\\n",
       "0    женат / замужем                 0      F   сотрудник     0   \n",
       "1    женат / замужем                 0      F   сотрудник     0   \n",
       "2    женат / замужем                 0      M   сотрудник     0   \n",
       "3    женат / замужем                 0      M   сотрудник     0   \n",
       "4   гражданский брак                 1      F   пенсионер     0   \n",
       "5   гражданский брак                 1      M   компаньон     0   \n",
       "6    женат / замужем                 0      F   компаньон     0   \n",
       "7    женат / замужем                 0      M   сотрудник     0   \n",
       "8   гражданский брак                 1      F   сотрудник     0   \n",
       "9    женат / замужем                 0      M   сотрудник     0   \n",
       "10   женат / замужем                 0      M   компаньон     0   \n",
       "11   женат / замужем                 0      F   сотрудник     0   \n",
       "12  гражданский брак                 1      M   пенсионер     0   \n",
       "13   женат / замужем                 0      F   сотрудник     0   \n",
       "14  гражданский брак                 1      F   компаньон     1   \n",
       "15   женат / замужем                 0      F   сотрудник     0   \n",
       "16   женат / замужем                 0      F   сотрудник     0   \n",
       "17  гражданский брак                 1      M   сотрудник     0   \n",
       "18    вдовец / вдова                 2      F   пенсионер     0   \n",
       "19         в разводе                 3      F   сотрудник     0   \n",
       "\n",
       "     total_income                                 purpose  \n",
       "0   253875.639453                           покупка жилья  \n",
       "1   112080.014102                 приобретение автомобиля  \n",
       "2   145885.952297                           покупка жилья  \n",
       "3   267628.550329              дополнительное образование  \n",
       "4   158616.077870                         сыграть свадьбу  \n",
       "5   255763.565419                           покупка жилья  \n",
       "6   240525.971920                       операции с жильем  \n",
       "7   135823.934197                             образование  \n",
       "8    95856.832424                   на проведение свадьбы  \n",
       "9   144425.938277                 покупка жилья для семьи  \n",
       "10  113943.491460                    покупка недвижимости  \n",
       "11   77069.234271       покупка коммерческой недвижимости  \n",
       "12            NaN                         сыграть свадьбу  \n",
       "13  130458.228857                 приобретение автомобиля  \n",
       "14  165127.911772              покупка жилой недвижимости  \n",
       "15  116820.904450  строительство собственной недвижимости  \n",
       "16  289202.704229                            недвижимость  \n",
       "17   90410.586745              строительство недвижимости  \n",
       "18   56823.777243      на покупку подержанного автомобиля  \n",
       "19  242831.107982            на покупку своего автомобиля  "
      ]
     },
     "execution_count": 2,
     "metadata": {},
     "output_type": "execute_result"
    }
   ],
   "source": [
    "data.head(20)"
   ]
  },
  {
   "cell_type": "markdown",
   "id": "c11bd7b9",
   "metadata": {
    "deletable": false,
    "editable": false,
    "id": "1c12e233"
   },
   "source": [
    "**Задание 3. Выведите основную информацию о датафрейме с помощью метода `info()`.**"
   ]
  },
  {
   "cell_type": "code",
   "execution_count": 3,
   "id": "db35eb2b",
   "metadata": {
    "deletable": false,
    "id": "2b757bca",
    "outputId": "15376089-8dad-46c9-b520-c05248d43158"
   },
   "outputs": [
    {
     "name": "stdout",
     "output_type": "stream",
     "text": [
      "<class 'pandas.core.frame.DataFrame'>\n",
      "RangeIndex: 21525 entries, 0 to 21524\n",
      "Data columns (total 12 columns):\n",
      " #   Column            Non-Null Count  Dtype  \n",
      "---  ------            --------------  -----  \n",
      " 0   children          21525 non-null  int64  \n",
      " 1   days_employed     19351 non-null  float64\n",
      " 2   dob_years         21525 non-null  int64  \n",
      " 3   education         21525 non-null  object \n",
      " 4   education_id      21525 non-null  int64  \n",
      " 5   family_status     21525 non-null  object \n",
      " 6   family_status_id  21525 non-null  int64  \n",
      " 7   gender            21525 non-null  object \n",
      " 8   income_type       21525 non-null  object \n",
      " 9   debt              21525 non-null  int64  \n",
      " 10  total_income      19351 non-null  float64\n",
      " 11  purpose           21525 non-null  object \n",
      "dtypes: float64(2), int64(5), object(5)\n",
      "memory usage: 2.0+ MB\n"
     ]
    }
   ],
   "source": [
    "data.info()"
   ]
  },
  {
   "cell_type": "markdown",
   "id": "12f48d8b",
   "metadata": {
    "deletable": false,
    "editable": false,
    "id": "333ec665"
   },
   "source": [
    "## Предобработка данных"
   ]
  },
  {
   "cell_type": "markdown",
   "id": "13921210",
   "metadata": {
    "deletable": false,
    "editable": false,
    "id": "02d92d53"
   },
   "source": [
    "### Удаление пропусков"
   ]
  },
  {
   "cell_type": "markdown",
   "id": "7c786c98",
   "metadata": {
    "deletable": false,
    "editable": false,
    "id": "cd84967c"
   },
   "source": [
    "**Задание 4. Выведите количество пропущенных значений для каждого столбца. Используйте комбинацию двух методов.**"
   ]
  },
  {
   "cell_type": "code",
   "execution_count": 4,
   "id": "2e653529",
   "metadata": {
    "deletable": false,
    "id": "7f9b2309",
    "outputId": "81f4d817-781c-465c-ed15-91ce4446810d"
   },
   "outputs": [
    {
     "data": {
      "text/plain": [
       "children               0\n",
       "days_employed       2174\n",
       "dob_years              0\n",
       "education              0\n",
       "education_id           0\n",
       "family_status          0\n",
       "family_status_id       0\n",
       "gender                 0\n",
       "income_type            0\n",
       "debt                   0\n",
       "total_income        2174\n",
       "purpose                0\n",
       "dtype: int64"
      ]
     },
     "execution_count": 4,
     "metadata": {},
     "output_type": "execute_result"
    }
   ],
   "source": [
    "data.isna().sum()"
   ]
  },
  {
   "cell_type": "markdown",
   "id": "e3ddb655",
   "metadata": {
    "deletable": false,
    "editable": false,
    "id": "db86e27b"
   },
   "source": [
    "**Задание 5. В двух столбцах есть пропущенные значения. Один из них — `days_employed`. Пропуски в этом столбце вы обработаете на следующем этапе. Другой столбец с пропущенными значениями — `total_income` — хранит данные о доходах. На сумму дохода сильнее всего влияет тип занятости, поэтому заполнить пропуски в этом столбце нужно медианным значением по каждому типу из столбца `income_type`. Например, у человека с типом занятости `сотрудник` пропуск в столбце `total_income` должен быть заполнен медианным доходом среди всех записей с тем же типом.**"
   ]
  },
  {
   "cell_type": "code",
   "execution_count": 5,
   "id": "1d63afd4",
   "metadata": {
    "deletable": false,
    "id": "42006a93"
   },
   "outputs": [],
   "source": [
    "for t in data['income_type'].unique():\n",
    "    data.loc[(data['income_type'] == t) & (data['total_income'].isna()), 'total_income'] = \\\n",
    "    data.loc[(data['income_type'] == t), 'total_income'].median()"
   ]
  },
  {
   "cell_type": "markdown",
   "id": "748c8683",
   "metadata": {
    "deletable": false,
    "editable": false,
    "id": "89da5ece"
   },
   "source": [
    "### Обработка аномальных значений"
   ]
  },
  {
   "cell_type": "markdown",
   "id": "01ee2a92",
   "metadata": {
    "deletable": false,
    "editable": false,
    "id": "57964554"
   },
   "source": [
    "**Задание 6. В данных могут встречаться артефакты (аномалии) — значения, которые не отражают действительность и появились по какой-то ошибке. таким артефактом будет отрицательное количество дней трудового стажа в столбце `days_employed`. Для реальных данных это нормально. Обработайте значения в этом столбце: замените все отрицательные значения положительными с помощью метода `abs()`.**"
   ]
  },
  {
   "cell_type": "code",
   "execution_count": 6,
   "id": "8fa79647",
   "metadata": {
    "deletable": false,
    "id": "f6f055bf"
   },
   "outputs": [],
   "source": [
    "data['days_employed'] = data['days_employed'].abs()"
   ]
  },
  {
   "cell_type": "markdown",
   "id": "b68f19ec",
   "metadata": {
    "deletable": false,
    "editable": false,
    "id": "6107dd2f"
   },
   "source": [
    "**Задание 7. Для каждого типа занятости выведите медианное значение трудового стажа `days_employed` в днях.**"
   ]
  },
  {
   "cell_type": "code",
   "execution_count": 7,
   "id": "6b53a6bc",
   "metadata": {
    "deletable": false,
    "id": "85a5faf6",
    "outputId": "801ef80e-522b-4668-f34e-565af7432bcf"
   },
   "outputs": [
    {
     "data": {
      "text/plain": [
       "income_type\n",
       "безработный        366413.652744\n",
       "в декрете            3296.759962\n",
       "госслужащий          2689.368353\n",
       "компаньон            1547.382223\n",
       "пенсионер          365213.306266\n",
       "предприниматель       520.848083\n",
       "сотрудник            1574.202821\n",
       "студент               578.751554\n",
       "Name: days_employed, dtype: float64"
      ]
     },
     "execution_count": 7,
     "metadata": {},
     "output_type": "execute_result"
    }
   ],
   "source": [
    "data.groupby('income_type')['days_employed'].agg('median')"
   ]
  },
  {
   "cell_type": "markdown",
   "id": "6d42ede4",
   "metadata": {
    "deletable": false,
    "editable": false,
    "id": "38d1a030"
   },
   "source": [
    "У двух типов (безработные и пенсионеры) получатся аномально большие значения. Исправить такие значения сложно, поэтому оставьте их как есть. Тем более этот столбец не понадобится вам для исследования."
   ]
  },
  {
   "cell_type": "markdown",
   "id": "bce02ea8",
   "metadata": {
    "deletable": false,
    "editable": false,
    "id": "d8a9f147"
   },
   "source": [
    "**Задание 8. Выведите перечень уникальных значений столбца `children`.**"
   ]
  },
  {
   "cell_type": "code",
   "execution_count": 8,
   "id": "bdf390e1",
   "metadata": {
    "deletable": false,
    "id": "ef5056eb",
    "outputId": "6975b15c-7f95-4697-d16d-a0c79b657b03"
   },
   "outputs": [
    {
     "data": {
      "text/plain": [
       "array([ 1,  0,  3,  2, -1,  4, 20,  5])"
      ]
     },
     "execution_count": 8,
     "metadata": {},
     "output_type": "execute_result"
    }
   ],
   "source": [
    "data['children'].unique()"
   ]
  },
  {
   "cell_type": "markdown",
   "id": "48eb7cd0",
   "metadata": {
    "deletable": false,
    "editable": false,
    "id": "40b9ebf2"
   },
   "source": [
    "**Задание 9. В столбце `children` есть два аномальных значения. Удалите строки, в которых встречаются такие аномальные значения из датафрейма `data`.**"
   ]
  },
  {
   "cell_type": "code",
   "execution_count": 9,
   "id": "4c29920e",
   "metadata": {
    "deletable": false,
    "id": "3ff9801d"
   },
   "outputs": [],
   "source": [
    "data = data[(data['children'] != -1) & (data['children'] != 20)]"
   ]
  },
  {
   "cell_type": "markdown",
   "id": "de5d5c2e",
   "metadata": {
    "deletable": false,
    "editable": false,
    "id": "bbc4d0ce"
   },
   "source": [
    "**Задание 10. Ещё раз выведите перечень уникальных значений столбца `children`, чтобы убедиться, что артефакты удалены.**"
   ]
  },
  {
   "cell_type": "code",
   "execution_count": 10,
   "id": "39d96500",
   "metadata": {
    "deletable": false,
    "id": "ad4fa8b7",
    "outputId": "b2097101-d49d-44d9-901b-32a65c9463d1"
   },
   "outputs": [
    {
     "data": {
      "text/plain": [
       "array([1, 0, 3, 2, 4, 5])"
      ]
     },
     "execution_count": 10,
     "metadata": {},
     "output_type": "execute_result"
    }
   ],
   "source": [
    "data['children'].unique()"
   ]
  },
  {
   "cell_type": "markdown",
   "id": "00905107",
   "metadata": {
    "deletable": false,
    "editable": false,
    "id": "75440b63"
   },
   "source": [
    "### Удаление пропусков (продолжение)"
   ]
  },
  {
   "cell_type": "markdown",
   "id": "0f89ed60",
   "metadata": {
    "deletable": false,
    "editable": false,
    "id": "f4ea573f"
   },
   "source": [
    "**Задание 11. Заполните пропуски в столбце `days_employed` медианными значениями по каждого типа занятости `income_type`.**"
   ]
  },
  {
   "cell_type": "code",
   "execution_count": 11,
   "id": "8d88ad0c",
   "metadata": {
    "deletable": false,
    "id": "af6b1a7e"
   },
   "outputs": [],
   "source": [
    "for t in data['income_type'].unique():\n",
    "    data.loc[(data['income_type'] == t) & (data['days_employed'].isna()), 'days_employed'] = \\\n",
    "    data.loc[(data['income_type'] == t), 'days_employed'].median()"
   ]
  },
  {
   "cell_type": "markdown",
   "id": "56d368c1",
   "metadata": {
    "deletable": false,
    "editable": false,
    "id": "2753f40d"
   },
   "source": [
    "**Задание 12. Убедитесь, что все пропуски заполнены. Проверьте себя и ещё раз выведите количество пропущенных значений для каждого столбца с помощью двух методов.**"
   ]
  },
  {
   "cell_type": "code",
   "execution_count": 12,
   "id": "082ae1fe",
   "metadata": {
    "deletable": false,
    "id": "55f78bc2",
    "outputId": "8da1e4e1-358e-4e87-98c9-f261bce0a7b2"
   },
   "outputs": [
    {
     "data": {
      "text/plain": [
       "children            0\n",
       "days_employed       0\n",
       "dob_years           0\n",
       "education           0\n",
       "education_id        0\n",
       "family_status       0\n",
       "family_status_id    0\n",
       "gender              0\n",
       "income_type         0\n",
       "debt                0\n",
       "total_income        0\n",
       "purpose             0\n",
       "dtype: int64"
      ]
     },
     "execution_count": 12,
     "metadata": {},
     "output_type": "execute_result"
    }
   ],
   "source": [
    "data.isna().sum()"
   ]
  },
  {
   "cell_type": "markdown",
   "id": "0b53b18b",
   "metadata": {
    "deletable": false,
    "editable": false,
    "id": "ddc81e43"
   },
   "source": [
    "### Изменение типов данных"
   ]
  },
  {
   "cell_type": "markdown",
   "id": "ff7f2d37",
   "metadata": {
    "deletable": false,
    "editable": false,
    "id": "42d19d24"
   },
   "source": [
    "**Задание 13. Замените вещественный тип данных в столбце `total_income` на целочисленный с помощью метода `astype()`.**"
   ]
  },
  {
   "cell_type": "code",
   "execution_count": 13,
   "id": "98b234b2",
   "metadata": {
    "deletable": false,
    "id": "920b65ad"
   },
   "outputs": [],
   "source": [
    "data['total_income'] = data['total_income'].astype(int)"
   ]
  },
  {
   "cell_type": "markdown",
   "id": "8c5e27e2",
   "metadata": {
    "deletable": false,
    "editable": false,
    "id": "80c420ba"
   },
   "source": [
    "### Обработка дубликатов"
   ]
  },
  {
   "cell_type": "markdown",
   "id": "cf01eddf",
   "metadata": {
    "deletable": false,
    "editable": false
   },
   "source": [
    "**Задание 14. Обработайте неявные дубликаты в столбце `education`. В этом столбце есть одни и те же значения, но записанные по-разному: с использованием заглавных и строчных букв. Приведите их к нижнему регистру. Проверьте остальные столбцы.**"
   ]
  },
  {
   "cell_type": "code",
   "execution_count": 14,
   "id": "b9405cfe",
   "metadata": {
    "deletable": false
   },
   "outputs": [],
   "source": [
    "data['education'] = data['education'].str.lower()"
   ]
  },
  {
   "cell_type": "markdown",
   "id": "0d8f8f4d",
   "metadata": {
    "deletable": false,
    "editable": false,
    "id": "dc587695"
   },
   "source": [
    "**Задание 15. Выведите на экран количество строк-дубликатов в данных. Если такие строки присутствуют, удалите их.**"
   ]
  },
  {
   "cell_type": "code",
   "execution_count": 15,
   "id": "dfe4382a",
   "metadata": {
    "deletable": false,
    "id": "3ee445e4",
    "outputId": "9684deba-1934-42d1-99e1-cda61740f822"
   },
   "outputs": [
    {
     "data": {
      "text/plain": [
       "71"
      ]
     },
     "execution_count": 15,
     "metadata": {},
     "output_type": "execute_result"
    }
   ],
   "source": [
    "data.duplicated().sum()"
   ]
  },
  {
   "cell_type": "code",
   "execution_count": 16,
   "id": "a6abd6e8",
   "metadata": {
    "deletable": false,
    "id": "8575fe05"
   },
   "outputs": [],
   "source": [
    "data = data.drop_duplicates()"
   ]
  },
  {
   "cell_type": "markdown",
   "id": "d00d623e",
   "metadata": {
    "deletable": false,
    "editable": false,
    "id": "9904cf55"
   },
   "source": [
    "### Категоризация данных"
   ]
  },
  {
   "cell_type": "markdown",
   "id": "4c1822b6",
   "metadata": {
    "deletable": false,
    "editable": false,
    "id": "72fcc8a2"
   },
   "source": [
    "**Задание 16. На основании диапазонов, указанных ниже, создайте в датафрейме `data` столбец `total_income_category` с категориями:**\n",
    "\n",
    "- 0–30000 — `'E'`;\n",
    "- 30001–50000 — `'D'`;\n",
    "- 50001–200000 — `'C'`;\n",
    "- 200001–1000000 — `'B'`;\n",
    "- 1000001 и выше — `'A'`.\n",
    "\n",
    "\n",
    "**Например, кредитополучателю с доходом 25000 нужно назначить категорию `'E'`, а клиенту, получающему 235000, — `'B'`. Используйте собственную функцию с именем `categorize_income()` и метод `apply()`.**"
   ]
  },
  {
   "cell_type": "code",
   "execution_count": 17,
   "id": "434b437f",
   "metadata": {
    "deletable": false,
    "id": "e1771346"
   },
   "outputs": [],
   "source": [
    "def categorize_income(income):\n",
    "    try:\n",
    "        if 0 <= income <= 30000:\n",
    "            return 'E'\n",
    "        elif 30001 <= income <= 50000:\n",
    "            return 'D'\n",
    "        elif 50001 <= income <= 200000:\n",
    "            return 'C'\n",
    "        elif 200001 <= income <= 1000000:\n",
    "            return 'B'\n",
    "        elif income >= 1000001:\n",
    "            return 'A'\n",
    "    except:\n",
    "        pass"
   ]
  },
  {
   "cell_type": "code",
   "execution_count": 18,
   "id": "905ac9a6",
   "metadata": {
    "deletable": false,
    "id": "d5f3586d"
   },
   "outputs": [],
   "source": [
    "data['total_income_category'] = data['total_income'].apply(categorize_income)"
   ]
  },
  {
   "cell_type": "markdown",
   "id": "d1f51f79",
   "metadata": {
    "deletable": false,
    "editable": false,
    "id": "dde49b5c"
   },
   "source": [
    "**Задание 17. Выведите на экран перечень уникальных целей взятия кредита из столбца `purpose`.**"
   ]
  },
  {
   "cell_type": "code",
   "execution_count": 19,
   "id": "82ed2150",
   "metadata": {
    "deletable": false,
    "id": "f67ce9b3",
    "outputId": "673c12d9-7d7e-4ae0-9812-c622c89dd244"
   },
   "outputs": [
    {
     "data": {
      "text/plain": [
       "array(['покупка жилья', 'приобретение автомобиля',\n",
       "       'дополнительное образование', 'сыграть свадьбу',\n",
       "       'операции с жильем', 'образование', 'на проведение свадьбы',\n",
       "       'покупка жилья для семьи', 'покупка недвижимости',\n",
       "       'покупка коммерческой недвижимости', 'покупка жилой недвижимости',\n",
       "       'строительство собственной недвижимости', 'недвижимость',\n",
       "       'строительство недвижимости', 'на покупку подержанного автомобиля',\n",
       "       'на покупку своего автомобиля',\n",
       "       'операции с коммерческой недвижимостью',\n",
       "       'строительство жилой недвижимости', 'жилье',\n",
       "       'операции со своей недвижимостью', 'автомобили',\n",
       "       'заняться образованием', 'сделка с подержанным автомобилем',\n",
       "       'получение образования', 'автомобиль', 'свадьба',\n",
       "       'получение дополнительного образования', 'покупка своего жилья',\n",
       "       'операции с недвижимостью', 'получение высшего образования',\n",
       "       'свой автомобиль', 'сделка с автомобилем',\n",
       "       'профильное образование', 'высшее образование',\n",
       "       'покупка жилья для сдачи', 'на покупку автомобиля', 'ремонт жилью',\n",
       "       'заняться высшим образованием'], dtype=object)"
      ]
     },
     "execution_count": 19,
     "metadata": {},
     "output_type": "execute_result"
    }
   ],
   "source": [
    "data['purpose'].unique()"
   ]
  },
  {
   "cell_type": "markdown",
   "id": "f91482ee",
   "metadata": {
    "deletable": false,
    "editable": false,
    "id": "85d0aef0"
   },
   "source": [
    "**Задание 18. Создайте функцию, которая на основании данных из столбца `purpose` сформирует новый столбец `purpose_category`, в который войдут следующие категории:**\n",
    "\n",
    "- `'операции с автомобилем'`,\n",
    "- `'операции с недвижимостью'`,\n",
    "- `'проведение свадьбы'`,\n",
    "- `'получение образования'`.\n",
    "\n",
    "**Например, если в столбце `purpose` находится подстрока `'на покупку автомобиля'`, то в столбце `purpose_category` должна появиться строка `'операции с автомобилем'`.**\n",
    "\n",
    "**Используйте собственную функцию с именем `categorize_purpose()` и метод `apply()`. Изучите данные в столбце `purpose` и определите, какие подстроки помогут вам правильно определить категорию.**"
   ]
  },
  {
   "cell_type": "code",
   "execution_count": 20,
   "id": "52132a76",
   "metadata": {
    "deletable": false,
    "id": "e149fab4"
   },
   "outputs": [],
   "source": [
    "def categorize_purpose(row):\n",
    "    try:\n",
    "        if 'автом' in row:\n",
    "            return 'операции с автомобилем'\n",
    "        elif 'жил' in row or 'недвиж' in row:\n",
    "            return 'операции с недвижимостью'\n",
    "        elif 'свад' in row:\n",
    "            return 'проведение свадьбы'\n",
    "        elif 'образов' in row:\n",
    "            return 'получение образования'\n",
    "    except:\n",
    "        return 'нет категории'"
   ]
  },
  {
   "cell_type": "code",
   "execution_count": 21,
   "id": "aab8fdc9",
   "metadata": {
    "deletable": false,
    "id": "bf36e69b"
   },
   "outputs": [],
   "source": [
    "data['purpose_category'] = data['purpose'].apply(categorize_purpose)"
   ]
  },
  {
   "cell_type": "markdown",
   "id": "3c491de9",
   "metadata": {
    "deletable": false,
    "editable": false,
    "id": "09b242bf"
   },
   "source": [
    "### Шаг 3. Исследуйте данные и ответьте на вопросы"
   ]
  },
  {
   "cell_type": "markdown",
   "id": "7062306f",
   "metadata": {
    "deletable": false,
    "editable": false,
    "id": "c5d66278"
   },
   "source": [
    "#### 3.1 Есть ли зависимость между количеством детей и возвратом кредита в срок?"
   ]
  },
  {
   "cell_type": "code",
   "execution_count": 22,
   "id": "06d3128d",
   "metadata": {
    "deletable": false,
    "id": "2cacfc4a"
   },
   "outputs": [
    {
     "name": "stdout",
     "output_type": "stream",
     "text": [
      "8.16 % Нет детей\n",
      "10.17 % 1 Ребенок\n",
      "10.44 % 2 Ребенка\n",
      "8.91 % 3 Ребенка\n"
     ]
    }
   ],
   "source": [
    "data_pivot_ch = data.pivot_table(index=['debt'], columns='children', values = 'family_status_id', aggfunc='count')\n",
    "#Сводная таблица по зависимости кол-ва детей и возвратов кредита\n",
    "\n",
    "children = data_pivot_ch[0][1] / data_pivot_ch[0][0] #Отсутсвие детей \n",
    "children_1 = data_pivot_ch[1][1] / data_pivot_ch[1][0] # 1 Ребенок в семье\n",
    "children_2 = data_pivot_ch[2][1] / data_pivot_ch[2][0] # 2 Ребенка в семье \n",
    "children_3 = data_pivot_ch[3][1] / data_pivot_ch[3][0] # 3 Ребенка в семье \n",
    "\n",
    "#Выведем процент выплат в зависимости от кол-ва детей в семье\n",
    "\n",
    "print(\"{0:.2f} % Нет детей\".format(children*100))\n",
    "print(\"{0:.2f} % 1 Ребенок\".format(children_1*100))\n",
    "print(\"{0:.2f} % 2 Ребенка\".format(children_2*100))\n",
    "print(\"{0:.2f} % 3 Ребенка\".format(children_3*100))"
   ]
  },
  {
   "cell_type": "markdown",
   "id": "0c7ccf5d",
   "metadata": {
    "deletable": false,
    "id": "3a6b99ec"
   },
   "source": [
    "**Вывод** \n",
    "- Чем больше у человека/семьи детей, тем больше долг (медленее выплата/есть задержки по выплатам)\n",
    "\n",
    "Следовательно, если в семье количество детей будет увеличиваться - долг будет также расти."
   ]
  },
  {
   "cell_type": "markdown",
   "id": "031ed3f2",
   "metadata": {
    "deletable": false,
    "editable": false,
    "id": "97be82ca"
   },
   "source": [
    "#### 3.2 Есть ли зависимость между семейным положением и возвратом кредита в срок?"
   ]
  },
  {
   "cell_type": "code",
   "execution_count": 23,
   "id": "65d25f60",
   "metadata": {
    "deletable": false,
    "id": "dc3f7ee8"
   },
   "outputs": [
    {
     "name": "stdout",
     "output_type": "stream",
     "text": [
      "10.82% Не женат / не замужем\n",
      "7.60% в разводе\n",
      "7.09% вдовец / вдова\n",
      "10.27% гражданский брак\n",
      "8.18% женат / замужем\n"
     ]
    }
   ],
   "source": [
    "data_pivot_fs = data.pivot_table(index=['debt'], columns='family_status', values='dob_years', aggfunc='count')\n",
    "#Создадим сводную таблицу для выявления зависимости семейного статуса к внесению оплаты\n",
    "no_family = data_pivot_fs['Не женат / не замужем'][1] / data_pivot_fs['Не женат / не замужем'][0]\n",
    "divorce = data_pivot_fs['в разводе'][1] / data_pivot_fs['в разводе'][0]\n",
    "widow = data_pivot_fs['вдовец / вдова'][1] / data_pivot_fs['вдовец / вдова'][0]\n",
    "partner = data_pivot_fs['гражданский брак'][1] / data_pivot_fs['гражданский брак'][0]\n",
    "family = data_pivot_fs['женат / замужем'][1] / data_pivot_fs['женат / замужем'][0]\n",
    "\n",
    "#Выведем также процентое соотношение\n",
    "print(\"{0:.2f}% Не женат / не замужем\".format(no_family*100))\n",
    "print(\"{0:.2f}% в разводе\".format(divorce*100))\n",
    "print(\"{0:.2f}% вдовец / вдова\".format(widow*100))\n",
    "print(\"{0:.2f}% гражданский брак\".format(partner*100))\n",
    "print(\"{0:.2f}% женат / замужем\".format(family*100))"
   ]
  },
  {
   "cell_type": "markdown",
   "id": "6feccea5",
   "metadata": {
    "deletable": false,
    "id": "1cef7837"
   },
   "source": [
    "**Вывод** \n",
    "\n",
    "- Одинокие заемщики без семьи (family_status = 'Не женат / не замужем') имеют наибольший % просрочек по кредиту (10.81). Это неожиданно, так как выше был вывод о том, что семьи не имеющие детей платят кредит исправно.\n",
    "\n",
    "- Наименьший % просрочек (7.09) по кредиту выявлена у овдовевших супругов (family_status = 'вдовец / вдова')."
   ]
  },
  {
   "cell_type": "markdown",
   "id": "aa80ca13",
   "metadata": {
    "deletable": false,
    "editable": false,
    "id": "1e8b2fca"
   },
   "source": [
    "#### 3.3 Есть ли зависимость между уровнем дохода и возвратом кредита в срок?"
   ]
  },
  {
   "cell_type": "code",
   "execution_count": 24,
   "id": "f7f3b049",
   "metadata": {
    "deletable": false,
    "id": "cd7e3720"
   },
   "outputs": [
    {
     "name": "stdout",
     "output_type": "stream",
     "text": [
      "10.00% E\n",
      "6.40% D\n",
      "9.29% C\n",
      "7.60% B\n",
      "8.70% A\n"
     ]
    }
   ],
   "source": [
    "data_pivot_in= data.pivot_table(index=['debt'], columns='total_income_category', values='dob_years', aggfunc='count')\n",
    "#Создание сводной таблицы для выявления зависимости уровня дохода и оплатой кредита \n",
    "\n",
    "income = data_pivot_in['E'][1] / data_pivot_in['E'][0]\n",
    "income_1 = data_pivot_in['D'][1] / data_pivot_in['D'][0]\n",
    "income_2 = data_pivot_in['C'][1] / data_pivot_in['C'][0]\n",
    "income_3 = data_pivot_in['B'][1] / data_pivot_in['B'][0]\n",
    "income_4 = data_pivot_in['A'][1] / data_pivot_in['A'][0]\n",
    "\n",
    "\n",
    "print(\"{0:.2f}% E\".format(income*100))\n",
    "print(\"{0:.2f}% D\".format(income_1*100))\n",
    "print(\"{0:.2f}% C\".format(income_2*100))\n",
    "print(\"{0:.2f}% B\".format(income_3*100))\n",
    "print(\"{0:.2f}% A\".format(income_4*100))"
   ]
  },
  {
   "cell_type": "markdown",
   "id": "0c91217d",
   "metadata": {
    "deletable": false,
    "id": "e8593def"
   },
   "source": [
    "**Вывод**\n",
    "\n",
    "- Самый высокий % просрочек по кредиту у потенциальных заемщиков из категории 'Е' с уровнем дохода 0-30000 руб;\n",
    "\n",
    "- Следующими по росту надежности следуют потенциальные заемщики из категорий 'C' с доходом 50001-200000 руб  и 'A' с доходом выше 1000001 руб;\n",
    "\n",
    "- Самые надежные заемщики попадают в категорию 'D' с доходом 30001–50000 руб. Получается, что исправнее всего кредит платят заемщики с доходом 30001–50000 руб."
   ]
  },
  {
   "cell_type": "markdown",
   "id": "da5d6773",
   "metadata": {
    "deletable": false,
    "editable": false,
    "id": "99ecbd1f"
   },
   "source": [
    "#### 3.4 Как разные цели кредита влияют на его возврат в срок?"
   ]
  },
  {
   "cell_type": "code",
   "execution_count": 25,
   "id": "76370b86",
   "metadata": {
    "deletable": false,
    "id": "2b687290"
   },
   "outputs": [
    {
     "name": "stdout",
     "output_type": "stream",
     "text": [
      "9.11% автомобиль\n",
      "7.73% жилье\n",
      "7.13% недвижимость\n",
      "8.82% свадьба\n",
      "7.80% образование\n"
     ]
    }
   ],
   "source": [
    "data_pivot_z= data.pivot_table(index=['debt'], columns='purpose', values='dob_years', aggfunc='count')\n",
    "#Сводная таблица для выявления целей, которые влияют на возврат кредита вовремя\n",
    "\n",
    "income = data_pivot_z['автомобиль'][1] / data_pivot_z['автомобиль'][0]\n",
    "income_1 = data_pivot_z['жилье'][1] / data_pivot_z['жилье'][0]\n",
    "income_2 = data_pivot_z['недвижимость'][1] / data_pivot_z['недвижимость'][0]\n",
    "income_3 = data_pivot_z['свадьба'][1] / data_pivot_z['свадьба'][0]\n",
    "income_4 = data_pivot_z['образование'][1] / data_pivot_z['образование'][0]\n",
    "\n",
    "print(\"{0:.2f}% автомобиль\".format(income*100))\n",
    "print(\"{0:.2f}% жилье\".format(income_1*100))\n",
    "print(\"{0:.2f}% недвижимость\".format(income_2*100))\n",
    "print(\"{0:.2f}% свадьба\".format(income_3*100))\n",
    "print(\"{0:.2f}% образование\".format(income_4*100))\n"
   ]
  },
  {
   "cell_type": "markdown",
   "id": "023e4069",
   "metadata": {
    "deletable": false,
    "id": "b4bb2ce6"
   },
   "source": [
    "**Вывод** \n",
    "\n",
    "- Самыми ненадежными заемщиками являются те, кто берут кредиты на свадьбу и покупку автомобиля;\n",
    "\n",
    "- Следующими по росту надежности следуют заемщики, которые берут кредиты на образование;\n",
    "\n",
    "- Самые надежные заемщики - те, кто берут кредиты на операции с недвижимостью."
   ]
  },
  {
   "cell_type": "markdown",
   "id": "d9bbe60f",
   "metadata": {
    "deletable": false,
    "editable": false,
    "id": "09c3ac4c"
   },
   "source": [
    "#### 3.5 Приведите возможные причины появления пропусков в исходных данных."
   ]
  },
  {
   "cell_type": "markdown",
   "id": "10c201be",
   "metadata": {
    "deletable": false,
    "id": "9da2ceda"
   },
   "source": [
    "*Пропуски могут появляться разлиными путями, например:*\n",
    "\n",
    "- Пользователь не указал о себе какие-либо данные;\n",
    "- Система сбора данных дала сбой;\n",
    "- Умышленные пропуски пользователем;\n",
    "- Сбой при считывании данных или неправильно указанный формат данных."
   ]
  },
  {
   "cell_type": "markdown",
   "id": "3028985d",
   "metadata": {
    "deletable": false,
    "editable": false,
    "id": "7b0487d6"
   },
   "source": [
    "#### 3.6 Объясните, почему заполнить пропуски медианным значением — лучшее решение для количественных переменных."
   ]
  },
  {
   "cell_type": "markdown",
   "id": "cb54060d",
   "metadata": {
    "deletable": false,
    "id": "7ecf2b8e"
   },
   "source": [
    "*Ответ:* \n",
    "- Медиана наиболее подходящая переменная, так как на неё не будут влиять случайные вбросы данных;\n",
    "- Среднее значение не использовалось, потому что могло бы некорректно охарактеризовать данные, если некоторые значения сильно выделялись бы среди большинства."
   ]
  },
  {
   "cell_type": "markdown",
   "id": "7b92d701",
   "metadata": {
    "deletable": false,
    "editable": false,
    "id": "6db5255a"
   },
   "source": [
    "### Шаг 4: общий вывод."
   ]
  },
  {
   "cell_type": "markdown",
   "id": "0bfc3b30",
   "metadata": {
    "deletable": false,
    "id": "bad65432"
   },
   "source": [
    "# Итог\n",
    "\n",
    "*После обработки полученных данных и некоторых доработок вышли следующие результаты:*\n",
    "- Всегда присутствует фактор пропущенных значений, который при удалении может сильно повлиять на результат;\n",
    "\n",
    "- В данной работе оптимальным вариантом устранения пропусков было медианное значение;\n",
    "\n",
    "- Некоторые данные могут быть указаны в разных регистрах - что тоже может помешать при обработке данных; \n",
    "\n",
    "*После обработки данных было проведено несколько исследований, которые показали:*\n",
    "- Чем больше у человека/семьи детей, тем больше долг, при этом одинокие заемщики имеют наибольший % просрочек по кредиту;\n",
    "\n",
    "- Наименьший % просрочек по кредиту выявлена у овдовевших супругов;\n",
    "\n",
    "- Самый высокий % просрочек по кредиту у заемщиков и с уровнем дохода 0-30000 руб, а самым надежные с уровнем дохода 30001 - 50000 руб; \n",
    "\n",
    "- Самыми ненадежными заемщиками являются те, кто берут кредиты на свадьбу и покупку автомобиля, самые надежные заемщики - те, кто берут кредиты на операции с недвижимостью."
   ]
  }
 ],
 "metadata": {
  "ExecuteTimeLog": [
   {
    "duration": 44,
    "start_time": "2022-12-28T23:20:55.470Z"
   },
   {
    "duration": 475,
    "start_time": "2022-12-28T23:21:05.286Z"
   },
   {
    "duration": 64,
    "start_time": "2022-12-28T23:21:06.862Z"
   },
   {
    "duration": 21,
    "start_time": "2022-12-28T23:21:07.854Z"
   },
   {
    "duration": 14,
    "start_time": "2022-12-28T23:21:10.310Z"
   },
   {
    "duration": 10,
    "start_time": "2022-12-28T23:21:12.029Z"
   },
   {
    "duration": 32,
    "start_time": "2022-12-28T23:21:13.841Z"
   },
   {
    "duration": 3,
    "start_time": "2022-12-28T23:21:15.403Z"
   },
   {
    "duration": 8,
    "start_time": "2022-12-28T23:21:16.404Z"
   },
   {
    "duration": 4,
    "start_time": "2022-12-28T23:21:17.935Z"
   },
   {
    "duration": 7,
    "start_time": "2022-12-28T23:21:19.137Z"
   },
   {
    "duration": 5,
    "start_time": "2022-12-28T23:21:20.415Z"
   },
   {
    "duration": 30,
    "start_time": "2022-12-28T23:21:21.949Z"
   },
   {
    "duration": 9,
    "start_time": "2022-12-28T23:21:23.044Z"
   },
   {
    "duration": 4,
    "start_time": "2022-12-28T23:21:24.760Z"
   },
   {
    "duration": 10,
    "start_time": "2022-12-28T23:21:25.708Z"
   },
   {
    "duration": 17,
    "start_time": "2022-12-28T23:21:28.455Z"
   },
   {
    "duration": 16,
    "start_time": "2022-12-28T23:21:29.680Z"
   },
   {
    "duration": 3,
    "start_time": "2022-12-28T23:21:31.522Z"
   },
   {
    "duration": 9,
    "start_time": "2022-12-28T23:21:33.107Z"
   },
   {
    "duration": 6,
    "start_time": "2022-12-28T23:21:34.139Z"
   },
   {
    "duration": 4,
    "start_time": "2022-12-28T23:21:36.931Z"
   },
   {
    "duration": 8,
    "start_time": "2022-12-28T23:21:38.361Z"
   },
   {
    "duration": 38,
    "start_time": "2022-12-28T23:21:40.015Z"
   },
   {
    "duration": 10,
    "start_time": "2022-12-28T23:32:03.631Z"
   },
   {
    "duration": 20,
    "start_time": "2022-12-28T23:32:17.673Z"
   },
   {
    "duration": 16,
    "start_time": "2022-12-28T23:32:22.608Z"
   },
   {
    "duration": 16,
    "start_time": "2022-12-28T23:32:44.156Z"
   },
   {
    "duration": 13,
    "start_time": "2022-12-28T23:33:10.051Z"
   },
   {
    "duration": 14,
    "start_time": "2022-12-28T23:35:32.907Z"
   },
   {
    "duration": 47,
    "start_time": "2022-12-30T23:20:30.673Z"
   },
   {
    "duration": 0,
    "start_time": "2022-12-30T23:20:30.721Z"
   },
   {
    "duration": 663,
    "start_time": "2022-12-30T23:21:38.038Z"
   },
   {
    "duration": 20,
    "start_time": "2022-12-30T23:21:38.703Z"
   },
   {
    "duration": 9,
    "start_time": "2022-12-30T23:21:38.725Z"
   },
   {
    "duration": 16,
    "start_time": "2022-12-30T23:22:57.336Z"
   },
   {
    "duration": 6,
    "start_time": "2022-12-30T23:22:57.353Z"
   },
   {
    "duration": 7,
    "start_time": "2022-12-30T23:22:57.360Z"
   },
   {
    "duration": 4,
    "start_time": "2022-12-30T23:22:57.368Z"
   },
   {
    "duration": 32,
    "start_time": "2022-12-30T23:22:57.373Z"
   },
   {
    "duration": 9,
    "start_time": "2022-12-30T23:22:57.415Z"
   },
   {
    "duration": 13,
    "start_time": "2022-12-30T23:22:57.425Z"
   },
   {
    "duration": 22,
    "start_time": "2022-12-30T23:22:57.440Z"
   },
   {
    "duration": 19,
    "start_time": "2022-12-30T23:22:57.463Z"
   },
   {
    "duration": 3,
    "start_time": "2022-12-30T23:22:57.483Z"
   },
   {
    "duration": 29,
    "start_time": "2022-12-30T23:22:57.488Z"
   },
   {
    "duration": 5,
    "start_time": "2022-12-30T23:22:57.518Z"
   },
   {
    "duration": 3,
    "start_time": "2022-12-30T23:22:57.525Z"
   },
   {
    "duration": 14,
    "start_time": "2022-12-30T23:22:57.529Z"
   },
   {
    "duration": 20,
    "start_time": "2022-12-30T23:22:57.544Z"
   },
   {
    "duration": 60,
    "start_time": "2022-12-30T23:22:57.566Z"
   },
   {
    "duration": 12,
    "start_time": "2022-12-30T23:24:02.193Z"
   },
   {
    "duration": 10,
    "start_time": "2022-12-30T23:31:22.645Z"
   },
   {
    "duration": 18,
    "start_time": "2022-12-30T23:39:52.040Z"
   },
   {
    "duration": 10,
    "start_time": "2022-12-30T23:39:56.694Z"
   },
   {
    "duration": 10,
    "start_time": "2022-12-30T23:45:10.015Z"
   },
   {
    "duration": 10,
    "start_time": "2022-12-30T23:50:55.105Z"
   },
   {
    "duration": 0,
    "start_time": "2022-12-30T23:52:31.591Z"
   },
   {
    "duration": 10,
    "start_time": "2022-12-30T23:53:25.820Z"
   },
   {
    "duration": 9,
    "start_time": "2022-12-30T23:55:24.206Z"
   },
   {
    "duration": 10,
    "start_time": "2022-12-30T23:58:17.106Z"
   },
   {
    "duration": 10,
    "start_time": "2022-12-30T23:59:07.294Z"
   },
   {
    "duration": 7,
    "start_time": "2022-12-30T23:59:25.736Z"
   },
   {
    "duration": 518,
    "start_time": "2023-01-03T22:33:02.136Z"
   },
   {
    "duration": 23,
    "start_time": "2023-01-03T22:33:05.596Z"
   },
   {
    "duration": 15,
    "start_time": "2023-01-03T22:33:08.651Z"
   },
   {
    "duration": 11,
    "start_time": "2023-01-03T22:33:11.835Z"
   },
   {
    "duration": 35,
    "start_time": "2023-01-03T22:33:14.280Z"
   },
   {
    "duration": 4,
    "start_time": "2023-01-03T22:33:16.882Z"
   },
   {
    "duration": 7,
    "start_time": "2023-01-03T22:33:28.135Z"
   },
   {
    "duration": 15,
    "start_time": "2023-01-03T22:33:28.144Z"
   },
   {
    "duration": 7,
    "start_time": "2023-01-03T22:33:28.424Z"
   },
   {
    "duration": 4,
    "start_time": "2023-01-03T22:33:37.208Z"
   },
   {
    "duration": 30,
    "start_time": "2023-01-03T22:33:39.918Z"
   },
   {
    "duration": 10,
    "start_time": "2023-01-03T22:33:41.471Z"
   },
   {
    "duration": 5,
    "start_time": "2023-01-03T22:33:43.220Z"
   },
   {
    "duration": 20,
    "start_time": "2023-01-03T22:33:44.744Z"
   },
   {
    "duration": 23,
    "start_time": "2023-01-03T22:33:48.664Z"
   },
   {
    "duration": 33,
    "start_time": "2023-01-03T22:33:50.223Z"
   },
   {
    "duration": 17,
    "start_time": "2023-01-03T22:33:52.019Z"
   },
   {
    "duration": 4,
    "start_time": "2023-01-03T22:34:44.356Z"
   },
   {
    "duration": 10,
    "start_time": "2023-01-03T22:34:44.362Z"
   },
   {
    "duration": 66,
    "start_time": "2023-01-03T22:34:55.492Z"
   },
   {
    "duration": 14,
    "start_time": "2023-01-03T22:35:09.517Z"
   },
   {
    "duration": 16,
    "start_time": "2023-01-03T22:35:09.534Z"
   },
   {
    "duration": 65,
    "start_time": "2023-01-03T22:35:09.551Z"
   },
   {
    "duration": 13,
    "start_time": "2023-01-03T22:35:13.791Z"
   },
   {
    "duration": 8,
    "start_time": "2023-01-03T22:35:16.205Z"
   },
   {
    "duration": 30,
    "start_time": "2023-01-03T22:35:18.749Z"
   },
   {
    "duration": 3,
    "start_time": "2023-01-03T22:35:20.229Z"
   },
   {
    "duration": 7,
    "start_time": "2023-01-03T22:35:21.631Z"
   },
   {
    "duration": 4,
    "start_time": "2023-01-03T22:35:23.309Z"
   },
   {
    "duration": 7,
    "start_time": "2023-01-03T22:35:24.533Z"
   },
   {
    "duration": 6,
    "start_time": "2023-01-03T22:35:25.843Z"
   },
   {
    "duration": 43,
    "start_time": "2023-01-03T22:35:27.770Z"
   },
   {
    "duration": 9,
    "start_time": "2023-01-03T22:35:28.994Z"
   },
   {
    "duration": 4,
    "start_time": "2023-01-03T22:35:30.813Z"
   },
   {
    "duration": 6,
    "start_time": "2023-01-03T22:36:20.678Z"
   },
   {
    "duration": 4,
    "start_time": "2023-01-03T22:36:20.685Z"
   },
   {
    "duration": 11,
    "start_time": "2023-01-03T22:36:20.690Z"
   },
   {
    "duration": 18,
    "start_time": "2023-01-03T22:36:20.702Z"
   },
   {
    "duration": 17,
    "start_time": "2023-01-03T22:36:25.450Z"
   },
   {
    "duration": 1019,
    "start_time": "2023-01-03T22:36:49.634Z"
   },
   {
    "duration": 5,
    "start_time": "2023-01-03T22:40:48.715Z"
   },
   {
    "duration": 132,
    "start_time": "2023-01-03T22:41:26.731Z"
   },
   {
    "duration": 17,
    "start_time": "2023-01-03T22:45:14.619Z"
   },
   {
    "duration": 15,
    "start_time": "2023-01-03T22:47:32.486Z"
   },
   {
    "duration": 10,
    "start_time": "2023-01-03T22:47:58.896Z"
   },
   {
    "duration": 20,
    "start_time": "2023-01-03T22:48:01.416Z"
   },
   {
    "duration": 22,
    "start_time": "2023-01-03T22:48:16.587Z"
   },
   {
    "duration": 4,
    "start_time": "2023-01-03T22:48:32.180Z"
   },
   {
    "duration": 9,
    "start_time": "2023-01-03T22:48:36.731Z"
   },
   {
    "duration": 6,
    "start_time": "2023-01-03T22:48:39.003Z"
   },
   {
    "duration": 6,
    "start_time": "2023-01-03T22:50:04.292Z"
   },
   {
    "duration": 8,
    "start_time": "2023-01-03T22:50:07.185Z"
   },
   {
    "duration": 20,
    "start_time": "2023-01-03T22:50:12.747Z"
   },
   {
    "duration": 19,
    "start_time": "2023-01-03T22:50:16.223Z"
   },
   {
    "duration": 124,
    "start_time": "2023-01-03T22:50:21.759Z"
   },
   {
    "duration": 20,
    "start_time": "2023-01-03T22:50:33.849Z"
   },
   {
    "duration": 16,
    "start_time": "2023-01-03T22:50:47.283Z"
   },
   {
    "duration": 4,
    "start_time": "2023-01-03T22:58:37.506Z"
   },
   {
    "duration": 129,
    "start_time": "2023-01-03T22:58:45.451Z"
   },
   {
    "duration": 13,
    "start_time": "2023-01-03T22:58:53.068Z"
   },
   {
    "duration": 119,
    "start_time": "2023-01-03T23:00:01.230Z"
   },
   {
    "duration": 13,
    "start_time": "2023-01-03T23:00:05.658Z"
   },
   {
    "duration": 17,
    "start_time": "2023-01-03T23:02:02.501Z"
   },
   {
    "duration": 16,
    "start_time": "2023-01-03T23:08:40.295Z"
   },
   {
    "duration": 11,
    "start_time": "2023-01-03T23:10:50.476Z"
   },
   {
    "duration": 10,
    "start_time": "2023-01-03T23:11:37.528Z"
   },
   {
    "duration": 12,
    "start_time": "2023-01-03T23:14:35.220Z"
   },
   {
    "duration": 10,
    "start_time": "2023-01-03T23:20:35.080Z"
   },
   {
    "duration": 11,
    "start_time": "2023-01-03T23:21:48.151Z"
   },
   {
    "duration": 12,
    "start_time": "2023-01-03T23:21:54.331Z"
   },
   {
    "duration": 11,
    "start_time": "2023-01-03T23:24:16.784Z"
   },
   {
    "duration": 1340,
    "start_time": "2023-01-03T23:24:30.985Z"
   },
   {
    "duration": 65,
    "start_time": "2023-01-03T23:25:21.655Z"
   },
   {
    "duration": 72,
    "start_time": "2023-01-03T23:25:24.063Z"
   },
   {
    "duration": 117,
    "start_time": "2023-01-03T23:25:37.791Z"
   },
   {
    "duration": 18,
    "start_time": "2023-01-03T23:25:54.354Z"
   },
   {
    "duration": 588,
    "start_time": "2023-01-08T22:31:17.669Z"
   },
   {
    "duration": 24,
    "start_time": "2023-01-08T22:31:19.591Z"
   },
   {
    "duration": 14,
    "start_time": "2023-01-08T22:31:22.888Z"
   },
   {
    "duration": 9,
    "start_time": "2023-01-08T22:31:24.695Z"
   },
   {
    "duration": 31,
    "start_time": "2023-01-08T22:31:26.455Z"
   },
   {
    "duration": 3,
    "start_time": "2023-01-08T22:31:27.784Z"
   },
   {
    "duration": 8,
    "start_time": "2023-01-08T22:31:28.722Z"
   },
   {
    "duration": 4,
    "start_time": "2023-01-08T22:31:30.174Z"
   },
   {
    "duration": 7,
    "start_time": "2023-01-08T22:31:31.462Z"
   },
   {
    "duration": 4,
    "start_time": "2023-01-08T22:31:32.576Z"
   },
   {
    "duration": 34,
    "start_time": "2023-01-08T22:31:34.190Z"
   },
   {
    "duration": 9,
    "start_time": "2023-01-08T22:31:35.204Z"
   },
   {
    "duration": 4,
    "start_time": "2023-01-08T22:31:36.462Z"
   },
   {
    "duration": 10,
    "start_time": "2023-01-08T22:31:37.765Z"
   },
   {
    "duration": 19,
    "start_time": "2023-01-08T22:31:38.504Z"
   },
   {
    "duration": 16,
    "start_time": "2023-01-08T22:31:39.302Z"
   },
   {
    "duration": 4,
    "start_time": "2023-01-08T22:31:40.755Z"
   },
   {
    "duration": 10,
    "start_time": "2023-01-08T22:31:42.555Z"
   },
   {
    "duration": 5,
    "start_time": "2023-01-08T22:31:43.420Z"
   },
   {
    "duration": 4,
    "start_time": "2023-01-08T22:31:45.777Z"
   },
   {
    "duration": 11,
    "start_time": "2023-01-08T22:31:47.056Z"
   },
   {
    "duration": 22,
    "start_time": "2023-01-08T22:31:51.632Z"
   },
   {
    "duration": 16,
    "start_time": "2023-01-08T22:31:55.094Z"
   },
   {
    "duration": 66,
    "start_time": "2023-01-08T22:32:00.635Z"
   },
   {
    "duration": 74,
    "start_time": "2023-01-08T22:32:43.068Z"
   },
   {
    "duration": 1120,
    "start_time": "2023-01-08T22:32:57.034Z"
   },
   {
    "duration": 1145,
    "start_time": "2023-01-08T22:34:19.895Z"
   },
   {
    "duration": 15,
    "start_time": "2023-01-08T22:35:33.814Z"
   },
   {
    "duration": 88,
    "start_time": "2023-01-08T22:39:47.186Z"
   },
   {
    "duration": 91,
    "start_time": "2023-01-08T22:39:54.100Z"
   },
   {
    "duration": 70,
    "start_time": "2023-01-08T22:40:39.372Z"
   },
   {
    "duration": 70,
    "start_time": "2023-01-08T22:40:59.402Z"
   },
   {
    "duration": 79,
    "start_time": "2023-01-08T22:41:19.259Z"
   },
   {
    "duration": 49,
    "start_time": "2023-01-15T14:15:09.549Z"
   },
   {
    "duration": 583,
    "start_time": "2023-06-15T12:26:21.351Z"
   },
   {
    "duration": 30,
    "start_time": "2023-06-15T12:26:21.937Z"
   },
   {
    "duration": 17,
    "start_time": "2023-06-15T12:26:21.969Z"
   },
   {
    "duration": 10,
    "start_time": "2023-06-15T12:26:21.988Z"
   },
   {
    "duration": 69,
    "start_time": "2023-06-15T12:26:22.000Z"
   },
   {
    "duration": 4,
    "start_time": "2023-06-15T12:26:22.072Z"
   },
   {
    "duration": 20,
    "start_time": "2023-06-15T12:26:22.079Z"
   },
   {
    "duration": 12,
    "start_time": "2023-06-15T12:26:22.100Z"
   },
   {
    "duration": 19,
    "start_time": "2023-06-15T12:26:22.113Z"
   },
   {
    "duration": 6,
    "start_time": "2023-06-15T12:26:22.134Z"
   },
   {
    "duration": 58,
    "start_time": "2023-06-15T12:26:22.150Z"
   },
   {
    "duration": 15,
    "start_time": "2023-06-15T12:26:22.211Z"
   },
   {
    "duration": 22,
    "start_time": "2023-06-15T12:26:22.229Z"
   },
   {
    "duration": 19,
    "start_time": "2023-06-15T12:26:22.255Z"
   },
   {
    "duration": 29,
    "start_time": "2023-06-15T12:26:22.280Z"
   },
   {
    "duration": 39,
    "start_time": "2023-06-15T12:26:22.311Z"
   },
   {
    "duration": 5,
    "start_time": "2023-06-15T12:26:22.352Z"
   },
   {
    "duration": 15,
    "start_time": "2023-06-15T12:26:22.359Z"
   },
   {
    "duration": 14,
    "start_time": "2023-06-15T12:26:22.376Z"
   },
   {
    "duration": 5,
    "start_time": "2023-06-15T12:26:22.391Z"
   },
   {
    "duration": 16,
    "start_time": "2023-06-15T12:26:22.398Z"
   },
   {
    "duration": 46,
    "start_time": "2023-06-15T12:26:22.416Z"
   },
   {
    "duration": 27,
    "start_time": "2023-06-15T12:26:22.464Z"
   },
   {
    "duration": 19,
    "start_time": "2023-06-15T12:26:22.493Z"
   },
   {
    "duration": 38,
    "start_time": "2023-06-15T12:26:22.514Z"
   }
  ],
  "colab": {
   "name": "dpp_template_part2.ipynb",
   "provenance": []
  },
  "kernelspec": {
   "display_name": "Python 3 (ipykernel)",
   "language": "python",
   "name": "python3"
  },
  "language_info": {
   "codemirror_mode": {
    "name": "ipython",
    "version": 3
   },
   "file_extension": ".py",
   "mimetype": "text/x-python",
   "name": "python",
   "nbconvert_exporter": "python",
   "pygments_lexer": "ipython3",
   "version": "3.9.5"
  },
  "toc": {
   "base_numbering": 1,
   "nav_menu": {},
   "number_sections": true,
   "sideBar": true,
   "skip_h1_title": true,
   "title_cell": "Table of Contents",
   "title_sidebar": "Contents",
   "toc_cell": false,
   "toc_position": {},
   "toc_section_display": true,
   "toc_window_display": false
  }
 },
 "nbformat": 4,
 "nbformat_minor": 5
}
